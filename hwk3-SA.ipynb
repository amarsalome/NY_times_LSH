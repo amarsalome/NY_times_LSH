{
 "cells": [
  {
   "cell_type": "markdown",
   "metadata": {},
   "source": [
    "# `CORPUS NY TIMES`"
   ]
  },
  {
   "cell_type": "code",
   "execution_count": 299,
   "metadata": {},
   "outputs": [],
   "source": [
    "from time import sleep\n",
    "import os\n",
    "import time\n",
    "from pathlib import Path\n",
    "import pandas as pd\n",
    "import numpy as np\n",
    "import pyspark \n",
    "import pyspark.sql.functions as fn\n",
    "from pyspark.sql.functions import window, column, col\n",
    "from pyspark.sql.functions import expr\n",
    "from pyspark.sql.functions import approx_count_distinct\n",
    "from pyspark import SparkConf, SparkContext\n",
    "from pyspark.sql import SparkSession\n",
    "from pyspark.sql import Window\n",
    "from pyspark.sql.catalog import Catalog\n",
    "from pyspark.ml.feature import StopWordsRemover\n",
    "from pyspark.ml.feature import RegexTokenizer\n",
    "import spacy\n",
    "from pyspark.ml.feature import CountVectorizer\n",
    "from pyspark.ml.feature import Tokenizer\n",
    "from pyspark.ml import Estimator \n",
    "from pyspark.ml import Transformer\n",
    "from pyspark.ml.feature import MinHashLSH \n",
    "from pyspark.ml.feature import MinHashLSHModel\n",
    "from pyspark.ml.feature import BucketedRandomProjectionLSH\n",
    "from pyspark.ml.feature import BucketedRandomProjectionLSHModel\n",
    "from pyspark.ml.evaluation import Evaluator\n",
    "from pyspark.ml import Pipeline\n",
    "from pyspark.ml.linalg import Vectors"
   ]
  },
  {
   "cell_type": "code",
   "execution_count": 54,
   "metadata": {},
   "outputs": [],
   "source": [
    "conf = SparkConf().setAppName(\"Spark\")\n",
    "sc = SparkContext(conf=conf)\n",
    "\n",
    "spark = (SparkSession\n",
    "    .builder\n",
    "    .appName(\"Spark\")\n",
    "    .getOrCreate()\n",
    ")"
   ]
  },
  {
   "cell_type": "markdown",
   "metadata": {},
   "source": [
    "# Loading as a Spark DataFrame"
   ]
  },
  {
   "cell_type": "code",
   "execution_count": 55,
   "metadata": {},
   "outputs": [],
   "source": [
    "df = spark.read.json(\"./JSON/\")"
   ]
  },
  {
   "cell_type": "code",
   "execution_count": 5,
   "metadata": {},
   "outputs": [
    {
     "name": "stdout",
     "output_type": "stream",
     "text": [
      "root\n",
      " |-- text: string (nullable = true)\n",
      " |-- topic: string (nullable = true)\n",
      " |-- date: timestamp (nullable = true)\n",
      " |-- title: string (nullable = true)\n",
      "\n"
     ]
    }
   ],
   "source": [
    "df.printSchema()"
   ]
  },
  {
   "cell_type": "code",
   "execution_count": 6,
   "metadata": {},
   "outputs": [
    {
     "name": "stdout",
     "output_type": "stream",
     "text": [
      "+--------------------+--------+-------------------+--------------------+\n",
      "|                text|   topic|               date|               title|\n",
      "+--------------------+--------+-------------------+--------------------+\n",
      "|\n",
      "In the spring of...|magazine|2016-06-12 00:00:00|choosing-a-school...|\n",
      "|\n",
      "Picture him as a...|magazine|2016-05-08 00:00:00|the-aspiring-nove...|\n",
      "|\n",
      "For the last hou...|magazine|2016-05-22 00:00:00|doctors-with-enem...|\n",
      "|\n",
      "Last November, M...|magazine|2016-05-08 00:00:00|should-prostituti...|\n",
      "|\n",
      "Nakuru is a lake...|magazine|2016-06-26 00:00:00|international-cri...|\n",
      "|\n",
      "‘Have you seen t...|magazine|2016-05-22 00:00:00|donald-trump-prim...|\n",
      "|\n",
      "On the morning o...|magazine|2016-05-29 00:00:00|behind-the-barric...|\n",
      "|\n",
      "Every week or so...|magazine|2016-06-26 00:00:00|will-trump-swallo...|\n",
      "|\n",
      "Hillary Clinton ...|magazine|2016-04-24 00:00:00|how-hillary-clint...|\n",
      "|\n",
      "One night in ear...|magazine|2016-06-19 00:00:00|can-netflix-survi...|\n",
      "+--------------------+--------+-------------------+--------------------+\n",
      "only showing top 10 rows\n",
      "\n"
     ]
    }
   ],
   "source": [
    "df.show(10)"
   ]
  },
  {
   "cell_type": "markdown",
   "metadata": {},
   "source": [
    "## Queries"
   ]
  },
  {
   "cell_type": "markdown",
   "metadata": {},
   "source": [
    "### - Average length (number of tokens) per post"
   ]
  },
  {
   "cell_type": "code",
   "execution_count": 99,
   "metadata": {
    "scrolled": false
   },
   "outputs": [
    {
     "name": "stdout",
     "output_type": "stream",
     "text": [
      "+--------------------+--------+-------------------+--------------------+--------------+\n",
      "|                text|   topic|               date|               title|nb_tokens_post|\n",
      "+--------------------+--------+-------------------+--------------------+--------------+\n",
      "|\n",
      "In the spring of...|magazine|2016-06-12 00:00:00|choosing-a-school...|          9668|\n",
      "|\n",
      "Picture him as a...|magazine|2016-05-08 00:00:00|the-aspiring-nove...|          9181|\n",
      "|\n",
      "For the last hou...|magazine|2016-05-22 00:00:00|doctors-with-enem...|          8181|\n",
      "|\n",
      "Last November, M...|magazine|2016-05-08 00:00:00|should-prostituti...|          7436|\n",
      "|\n",
      "Nakuru is a lake...|magazine|2016-06-26 00:00:00|international-cri...|          7223|\n",
      "|\n",
      "‘Have you seen t...|magazine|2016-05-22 00:00:00|donald-trump-prim...|          6863|\n",
      "|\n",
      "On the morning o...|magazine|2016-05-29 00:00:00|behind-the-barric...|          6954|\n",
      "|\n",
      "Every week or so...|magazine|2016-06-26 00:00:00|will-trump-swallo...|          6533|\n",
      "|\n",
      "Hillary Clinton ...|magazine|2016-04-24 00:00:00|how-hillary-clint...|          6490|\n",
      "|\n",
      "One night in ear...|magazine|2016-06-19 00:00:00|can-netflix-survi...|          6542|\n",
      "+--------------------+--------+-------------------+--------------------+--------------+\n",
      "only showing top 10 rows\n",
      "\n"
     ]
    }
   ],
   "source": [
    "df_nb_tokens_post = df.withColumn('nb_tokens_post', fn.size(fn.split(fn.col('text'),' ')))\n",
    "df_nb_tokens_post.show(10)"
   ]
  },
  {
   "cell_type": "code",
   "execution_count": 420,
   "metadata": {},
   "outputs": [
    {
     "name": "stdout",
     "output_type": "stream",
     "text": [
      "+--------------------+--------------+\n",
      "|                text|nb_tokens_post|\n",
      "+--------------------+--------------+\n",
      "|\n",
      "In the spring of...|          9668|\n",
      "|\n",
      "Picture him as a...|          9181|\n",
      "|\n",
      "For the last hou...|          8181|\n",
      "|\n",
      "Last November, M...|          7436|\n",
      "|\n",
      "Nakuru is a lake...|          7223|\n",
      "|\n",
      "‘Have you seen t...|          6863|\n",
      "|\n",
      "On the morning o...|          6954|\n",
      "|\n",
      "Every week or so...|          6533|\n",
      "|\n",
      "Hillary Clinton ...|          6490|\n",
      "|\n",
      "One night in ear...|          6542|\n",
      "+--------------------+--------------+\n",
      "only showing top 10 rows\n",
      "\n"
     ]
    }
   ],
   "source": [
    "df_nb_tokens_post = df.select(\"text\").withColumn('nb_tokens_post', fn.size(fn.split(fn.col('text'),' ')))                 \n",
    "df_nb_tokens_post.show(10)"
   ]
  },
  {
   "cell_type": "code",
   "execution_count": 427,
   "metadata": {},
   "outputs": [
    {
     "name": "stdout",
     "output_type": "stream",
     "text": [
      "+-------------------+\n",
      "|avg(nb_tokens_post)|\n",
      "+-------------------+\n",
      "|  798.4488287468729|\n",
      "+-------------------+\n",
      "\n"
     ]
    }
   ],
   "source": [
    "df_avg_tokens = df_text.agg({\"nb_tokens_post\": \"avg\"})\n",
    "df_avg_tokens.show()"
   ]
  },
  {
   "cell_type": "markdown",
   "metadata": {},
   "source": [
    "### - Average number of Spark stopwords per post "
   ]
  },
  {
   "cell_type": "code",
   "execution_count": 425,
   "metadata": {},
   "outputs": [
    {
     "name": "stdout",
     "output_type": "stream",
     "text": [
      "+--------------------+--------------+--------------------+\n",
      "|                text|nb_tokens_post|      text_tokenized|\n",
      "+--------------------+--------------+--------------------+\n",
      "|\n",
      "In the spring of...|          9668|[\n",
      "in, the, spring...|\n",
      "|\n",
      "Picture him as a...|          9181|[\n",
      "picture, him, a...|\n",
      "|\n",
      "For the last hou...|          8181|[\n",
      "for, the, last,...|\n",
      "|\n",
      "Last November, M...|          7436|[\n",
      "last, november,...|\n",
      "|\n",
      "Nakuru is a lake...|          7223|[\n",
      "nakuru, is, a, ...|\n",
      "+--------------------+--------------+--------------------+\n",
      "only showing top 5 rows\n",
      "\n"
     ]
    }
   ],
   "source": [
    "regexTokenizer = RegexTokenizer()\\\n",
    "        .setInputCol('text')\\\n",
    "        .setOutputCol('text_tokenized')\\\n",
    "        .setPattern(\" \")\\\n",
    "        .setToLowercase(True)\n",
    "df_tokenized = regexTokenizer.transform(df_nb_tokens_post)\n",
    "df_tokenized.show(5)"
   ]
  },
  {
   "cell_type": "code",
   "execution_count": 426,
   "metadata": {
    "scrolled": false
   },
   "outputs": [
    {
     "name": "stdout",
     "output_type": "stream",
     "text": [
      "+--------------------+--------------+--------------------+--------------------+\n",
      "|                text|nb_tokens_post|      text_tokenized|            filtered|\n",
      "+--------------------+--------------+--------------------+--------------------+\n",
      "|\n",
      "In the spring of...|          9668|[\n",
      "in, the, spring...|[\n",
      "in, spring, 201...|\n",
      "|\n",
      "Picture him as a...|          9181|[\n",
      "picture, him, a...|[\n",
      "picture, young,...|\n",
      "|\n",
      "For the last hou...|          8181|[\n",
      "for, the, last,...|[\n",
      "for, last, hour...|\n",
      "|\n",
      "Last November, M...|          7436|[\n",
      "last, november,...|[\n",
      "last, november,...|\n",
      "|\n",
      "Nakuru is a lake...|          7223|[\n",
      "nakuru, is, a, ...|[\n",
      "nakuru, lakesid...|\n",
      "+--------------------+--------------+--------------------+--------------------+\n",
      "only showing top 5 rows\n",
      "\n"
     ]
    }
   ],
   "source": [
    "stopwords = StopWordsRemover.loadDefaultStopWords('english')\n",
    "remover = StopWordsRemover()\\\n",
    "            .setStopWords(stopwords)\\\n",
    "            .setInputCol('text_tokenized')\\\n",
    "            .setOutputCol('filtered')\n",
    "df_filtered = remover.transform(df_tokenized)\n",
    "df_filtered.show(5)"
   ]
  },
  {
   "cell_type": "code",
   "execution_count": 424,
   "metadata": {},
   "outputs": [
    {
     "name": "stdout",
     "output_type": "stream",
     "text": [
      "+--------------------+--------------+------------+\n",
      "|                text|nb_tokens_post|nb_stopwords|\n",
      "+--------------------+--------------+------------+\n",
      "|\n",
      "In the spring of...|          9668|        4063|\n",
      "|\n",
      "Picture him as a...|          9181|        4146|\n",
      "|\n",
      "For the last hou...|          8181|        3536|\n",
      "|\n",
      "Last November, M...|          7436|        2999|\n",
      "|\n",
      "Nakuru is a lake...|          7223|        3065|\n",
      "+--------------------+--------------+------------+\n",
      "only showing top 5 rows\n",
      "\n"
     ]
    }
   ],
   "source": [
    "df_stop_post = df_filtered\\\n",
    "        .withColumn('nb_stopwords',fn.col('nb_tokens_post') - fn.size(fn.col('filtered')))\\\n",
    "        .select(['text','nb_tokens_post','nb_stopwords'])\n",
    "df_stop_post.show(5)"
   ]
  },
  {
   "cell_type": "code",
   "execution_count": 429,
   "metadata": {},
   "outputs": [
    {
     "name": "stdout",
     "output_type": "stream",
     "text": [
      "+------------------+\n",
      "| avg(nb_stopwords)|\n",
      "+------------------+\n",
      "|325.97725722083237|\n",
      "+------------------+\n",
      "\n"
     ]
    }
   ],
   "source": [
    "df_avg_stop = df_stop_post.agg({\"nb_stopwords\": \"avg\"})\n",
    "df_avg_stop.show()"
   ]
  },
  {
   "cell_type": "markdown",
   "metadata": {},
   "source": [
    "### - Number of post per days"
   ]
  },
  {
   "cell_type": "code",
   "execution_count": 139,
   "metadata": {},
   "outputs": [
    {
     "name": "stdout",
     "output_type": "stream",
     "text": [
      "+-------------------+-----+\n",
      "|               date|count|\n",
      "+-------------------+-----+\n",
      "|2016-05-01 00:00:00|  176|\n",
      "|2016-05-19 00:00:00|  145|\n",
      "|2016-05-03 00:00:00|  109|\n",
      "|2016-06-10 00:00:00|  130|\n",
      "|2016-05-14 00:00:00|   96|\n",
      "|2016-04-17 00:00:00|    1|\n",
      "|2016-05-04 00:00:00|  128|\n",
      "|2016-05-05 00:00:00|  149|\n",
      "|2016-06-17 00:00:00|  115|\n",
      "|2016-06-14 00:00:00|  112|\n",
      "+-------------------+-----+\n",
      "only showing top 10 rows\n",
      "\n"
     ]
    }
   ],
   "source": [
    "df_post_day = df.groupBy('date').count()\n",
    "df_post_day.show(10)"
   ]
  },
  {
   "cell_type": "markdown",
   "metadata": {},
   "source": [
    "### - Number of post per topics and subtopics"
   ]
  },
  {
   "cell_type": "code",
   "execution_count": 141,
   "metadata": {},
   "outputs": [
    {
     "name": "stdout",
     "output_type": "stream",
     "text": [
      "+--------------------+-----+\n",
      "|               topic|count|\n",
      "+--------------------+-----+\n",
      "|              travel|  140|\n",
      "| sports/horse-racing|   31|\n",
      "|t-magazine/entert...|   15|\n",
      "|       sports/hockey|  119|\n",
      "|       sports/soccer|  180|\n",
      "|sports/ncaabasket...|    8|\n",
      "|                  us|  585|\n",
      "|  arts/international|   33|\n",
      "|     sports/olympics|   49|\n",
      "|     arts/television|  126|\n",
      "+--------------------+-----+\n",
      "only showing top 10 rows\n",
      "\n"
     ]
    }
   ],
   "source": [
    "df_post_topic = df.groupBy('topic').count()\n",
    "df_post_topic.show(10)"
   ]
  },
  {
   "cell_type": "markdown",
   "metadata": {},
   "source": [
    "# Loading as Spark Streaming DataFrame"
   ]
  },
  {
   "cell_type": "markdown",
   "metadata": {},
   "source": [
    "One file per trigger"
   ]
  },
  {
   "cell_type": "code",
   "execution_count": 431,
   "metadata": {},
   "outputs": [],
   "source": [
    "spark.conf.set(\"spark.sql.shuffle.partitions\",5)\n",
    "df_streaming = spark.readStream.schema(df.schema).option(\"maxFilesPerTrigger\",1).json(\"./JSON/\")"
   ]
  },
  {
   "cell_type": "code",
   "execution_count": 432,
   "metadata": {},
   "outputs": [
    {
     "data": {
      "text/plain": [
       "pyspark.sql.dataframe.DataFrame"
      ]
     },
     "execution_count": 432,
     "metadata": {},
     "output_type": "execute_result"
    }
   ],
   "source": [
    "type(df_streaming)"
   ]
  },
  {
   "cell_type": "markdown",
   "metadata": {},
   "source": [
    "## Streaming Queries"
   ]
  },
  {
   "cell_type": "markdown",
   "metadata": {},
   "source": [
    "### - Average length (number of tokens) per post"
   ]
  },
  {
   "cell_type": "code",
   "execution_count": 439,
   "metadata": {},
   "outputs": [],
   "source": [
    "nb_tokens_post_query = df_streaming\\\n",
    ".withColumn('nb_tokens', fn.size(fn.split(fn.col('text'),' ')))\\\n",
    ".writeStream\\\n",
    ".queryName(\"nb_tokens_post\")\\\n",
    ".format(\"memory\")\\\n",
    ".outputMode(\"append\")\\\n",
    ".start()"
   ]
  },
  {
   "cell_type": "code",
   "execution_count": 436,
   "metadata": {
    "scrolled": false
   },
   "outputs": [
    {
     "name": "stdout",
     "output_type": "stream",
     "text": [
      "+--------------------+--------+-------------------+--------------------+---------+\n",
      "|                text|   topic|               date|               title|nb_tokens|\n",
      "+--------------------+--------+-------------------+--------------------+---------+\n",
      "|\n",
      "How does a young...|  movies|2016-05-29 00:00:00|the-fits-its-all-...|     1055|\n",
      "|\n",
      "Humans may be qu...|nyregion|2016-05-29 00:00:00|time-for-horsesho...|      541|\n",
      "+--------------------+--------+-------------------+--------------------+---------+\n",
      "\n",
      "+--------------------+--------+-------------------+--------------------+---------+\n",
      "|                text|   topic|               date|               title|nb_tokens|\n",
      "+--------------------+--------+-------------------+--------------------+---------+\n",
      "|\n",
      "How does a young...|  movies|2016-05-29 00:00:00|the-fits-its-all-...|     1055|\n",
      "|\n",
      "Humans may be qu...|nyregion|2016-05-29 00:00:00|time-for-horsesho...|      541|\n",
      "|\n",
      "SAN FRANCISCO — ...|  movies|2016-05-29 00:00:00|duncan-jones-bowi...|     1552|\n",
      "+--------------------+--------+-------------------+--------------------+---------+\n",
      "\n",
      "+--------------------+--------+-------------------+--------------------+---------+\n",
      "|                text|   topic|               date|               title|nb_tokens|\n",
      "+--------------------+--------+-------------------+--------------------+---------+\n",
      "|\n",
      "How does a young...|  movies|2016-05-29 00:00:00|the-fits-its-all-...|     1055|\n",
      "|\n",
      "Humans may be qu...|nyregion|2016-05-29 00:00:00|time-for-horsesho...|      541|\n",
      "|\n",
      "SAN FRANCISCO — ...|  movies|2016-05-29 00:00:00|duncan-jones-bowi...|     1552|\n",
      "|\n",
      "Kamala Harris wa...|magazine|2016-05-29 00:00:00|kamala-harris-a-t...|     3849|\n",
      "+--------------------+--------+-------------------+--------------------+---------+\n",
      "\n",
      "+--------------------+----------------+-------------------+--------------------+---------+\n",
      "|                text|           topic|               date|               title|nb_tokens|\n",
      "+--------------------+----------------+-------------------+--------------------+---------+\n",
      "|\n",
      "How does a young...|          movies|2016-05-29 00:00:00|the-fits-its-all-...|     1055|\n",
      "|\n",
      "Humans may be qu...|        nyregion|2016-05-29 00:00:00|time-for-horsesho...|      541|\n",
      "|\n",
      "SAN FRANCISCO — ...|          movies|2016-05-29 00:00:00|duncan-jones-bowi...|     1552|\n",
      "|\n",
      "Kamala Harris wa...|        magazine|2016-05-29 00:00:00|kamala-harris-a-t...|     3849|\n",
      "|\n",
      "Brittany Anne Ca...|fashion/weddings|2016-05-29 00:00:00|brittany-campbell...|      232|\n",
      "+--------------------+----------------+-------------------+--------------------+---------+\n",
      "\n",
      "+--------------------+----------------+-------------------+--------------------+---------+\n",
      "|                text|           topic|               date|               title|nb_tokens|\n",
      "+--------------------+----------------+-------------------+--------------------+---------+\n",
      "|\n",
      "How does a young...|          movies|2016-05-29 00:00:00|the-fits-its-all-...|     1055|\n",
      "|\n",
      "Humans may be qu...|        nyregion|2016-05-29 00:00:00|time-for-horsesho...|      541|\n",
      "|\n",
      "SAN FRANCISCO — ...|          movies|2016-05-29 00:00:00|duncan-jones-bowi...|     1552|\n",
      "|\n",
      "Kamala Harris wa...|        magazine|2016-05-29 00:00:00|kamala-harris-a-t...|     3849|\n",
      "|\n",
      "Brittany Anne Ca...|fashion/weddings|2016-05-29 00:00:00|brittany-campbell...|      232|\n",
      "|\n",
      "The title track ...|      arts/music|2016-05-29 00:00:00|ariana-grande-fif...|      794|\n",
      "+--------------------+----------------+-------------------+--------------------+---------+\n",
      "\n"
     ]
    }
   ],
   "source": [
    "for x in range(5):\n",
    "    spark.sql(\"SELECT * FROM nb_tokens_post\")\\\n",
    "    .show(10) \n",
    "    sleep(1)"
   ]
  },
  {
   "cell_type": "code",
   "execution_count": 440,
   "metadata": {},
   "outputs": [],
   "source": [
    "nb_tokens_post_query.stop()"
   ]
  },
  {
   "cell_type": "markdown",
   "metadata": {},
   "source": [
    "### - Average number of stopwords (Spark stopwords) per post"
   ]
  },
  {
   "cell_type": "code",
   "execution_count": 109,
   "metadata": {},
   "outputs": [],
   "source": [
    "nb_stopwords_post_query = remover\\\n",
    "    .transform(regexTokenizer.transform(df_streaming.withColumn('nb_tokens', fn.size(fn.split(fn.col('text'),' ')))))\\\n",
    "    .withColumn('nb_stop',fn.col('nb_tokens') - fn.size(fn.col('filtered')))\\\n",
    "    .select(['text','topic','date','title','nb_tokens','nb_stop'])\\\n",
    "    .withColumn('nb_tokens', fn.size(fn.split(fn.col('text'),' ')))\\\n",
    "    .writeStream\\\n",
    "    .queryName(\"nb_stopwords\")\\\n",
    "    .format(\"memory\")\\\n",
    "    .outputMode(\"append\")\\\n",
    "    .start()           \n",
    "               "
   ]
  },
  {
   "cell_type": "code",
   "execution_count": 110,
   "metadata": {
    "scrolled": false
   },
   "outputs": [
    {
     "name": "stdout",
     "output_type": "stream",
     "text": [
      "+--------------------+----------------+-------------------+--------------------+---------+-------+\n",
      "|                text|           topic|               date|               title|nb_tokens|nb_stop|\n",
      "+--------------------+----------------+-------------------+--------------------+---------+-------+\n",
      "|\n",
      "How does a young...|          movies|2016-05-29 00:00:00|the-fits-its-all-...|     1055|    439|\n",
      "|\n",
      "Humans may be qu...|        nyregion|2016-05-29 00:00:00|time-for-horsesho...|      541|    214|\n",
      "|\n",
      "SAN FRANCISCO — ...|          movies|2016-05-29 00:00:00|duncan-jones-bowi...|     1552|    650|\n",
      "|\n",
      "Kamala Harris wa...|        magazine|2016-05-29 00:00:00|kamala-harris-a-t...|     3849|   1572|\n",
      "|\n",
      "Brittany Anne Ca...|fashion/weddings|2016-05-29 00:00:00|brittany-campbell...|      232|     89|\n",
      "|\n",
      "The title track ...|      arts/music|2016-05-29 00:00:00|ariana-grande-fif...|      794|    301|\n",
      "|\n",
      "One of the lates...|        business|2016-05-29 00:00:00|a-worrisome-pileu...|      954|    371|\n",
      "|\n",
      "PARIS — It is no...|   sports/tennis|2016-05-29 00:00:00|novak-djokovic-sh...|      843|    364|\n",
      "|\n",
      "The highly aesth...|          movies|2016-05-29 00:00:00|1940s-dispatches-...|     1256|    465|\n",
      "|\n",
      "The C-suite lean...|        business|2016-05-29 00:00:00|they-tilt-right-b...|      650|    235|\n",
      "+--------------------+----------------+-------------------+--------------------+---------+-------+\n",
      "only showing top 10 rows\n",
      "\n",
      "+--------------------+----------------+-------------------+--------------------+---------+-------+\n",
      "|                text|           topic|               date|               title|nb_tokens|nb_stop|\n",
      "+--------------------+----------------+-------------------+--------------------+---------+-------+\n",
      "|\n",
      "How does a young...|          movies|2016-05-29 00:00:00|the-fits-its-all-...|     1055|    439|\n",
      "|\n",
      "Humans may be qu...|        nyregion|2016-05-29 00:00:00|time-for-horsesho...|      541|    214|\n",
      "|\n",
      "SAN FRANCISCO — ...|          movies|2016-05-29 00:00:00|duncan-jones-bowi...|     1552|    650|\n",
      "|\n",
      "Kamala Harris wa...|        magazine|2016-05-29 00:00:00|kamala-harris-a-t...|     3849|   1572|\n",
      "|\n",
      "Brittany Anne Ca...|fashion/weddings|2016-05-29 00:00:00|brittany-campbell...|      232|     89|\n",
      "|\n",
      "The title track ...|      arts/music|2016-05-29 00:00:00|ariana-grande-fif...|      794|    301|\n",
      "|\n",
      "One of the lates...|        business|2016-05-29 00:00:00|a-worrisome-pileu...|      954|    371|\n",
      "|\n",
      "PARIS — It is no...|   sports/tennis|2016-05-29 00:00:00|novak-djokovic-sh...|      843|    364|\n",
      "|\n",
      "The highly aesth...|          movies|2016-05-29 00:00:00|1940s-dispatches-...|     1256|    465|\n",
      "|\n",
      "The C-suite lean...|        business|2016-05-29 00:00:00|they-tilt-right-b...|      650|    235|\n",
      "+--------------------+----------------+-------------------+--------------------+---------+-------+\n",
      "only showing top 10 rows\n",
      "\n",
      "+--------------------+----------------+-------------------+--------------------+---------+-------+\n",
      "|                text|           topic|               date|               title|nb_tokens|nb_stop|\n",
      "+--------------------+----------------+-------------------+--------------------+---------+-------+\n",
      "|\n",
      "How does a young...|          movies|2016-05-29 00:00:00|the-fits-its-all-...|     1055|    439|\n",
      "|\n",
      "Humans may be qu...|        nyregion|2016-05-29 00:00:00|time-for-horsesho...|      541|    214|\n",
      "|\n",
      "SAN FRANCISCO — ...|          movies|2016-05-29 00:00:00|duncan-jones-bowi...|     1552|    650|\n",
      "|\n",
      "Kamala Harris wa...|        magazine|2016-05-29 00:00:00|kamala-harris-a-t...|     3849|   1572|\n",
      "|\n",
      "Brittany Anne Ca...|fashion/weddings|2016-05-29 00:00:00|brittany-campbell...|      232|     89|\n",
      "|\n",
      "The title track ...|      arts/music|2016-05-29 00:00:00|ariana-grande-fif...|      794|    301|\n",
      "|\n",
      "One of the lates...|        business|2016-05-29 00:00:00|a-worrisome-pileu...|      954|    371|\n",
      "|\n",
      "PARIS — It is no...|   sports/tennis|2016-05-29 00:00:00|novak-djokovic-sh...|      843|    364|\n",
      "|\n",
      "The highly aesth...|          movies|2016-05-29 00:00:00|1940s-dispatches-...|     1256|    465|\n",
      "|\n",
      "The C-suite lean...|        business|2016-05-29 00:00:00|they-tilt-right-b...|      650|    235|\n",
      "+--------------------+----------------+-------------------+--------------------+---------+-------+\n",
      "only showing top 10 rows\n",
      "\n",
      "+--------------------+----------------+-------------------+--------------------+---------+-------+\n",
      "|                text|           topic|               date|               title|nb_tokens|nb_stop|\n",
      "+--------------------+----------------+-------------------+--------------------+---------+-------+\n",
      "|\n",
      "How does a young...|          movies|2016-05-29 00:00:00|the-fits-its-all-...|     1055|    439|\n",
      "|\n",
      "Humans may be qu...|        nyregion|2016-05-29 00:00:00|time-for-horsesho...|      541|    214|\n",
      "|\n",
      "SAN FRANCISCO — ...|          movies|2016-05-29 00:00:00|duncan-jones-bowi...|     1552|    650|\n",
      "|\n",
      "Kamala Harris wa...|        magazine|2016-05-29 00:00:00|kamala-harris-a-t...|     3849|   1572|\n",
      "|\n",
      "Brittany Anne Ca...|fashion/weddings|2016-05-29 00:00:00|brittany-campbell...|      232|     89|\n",
      "|\n",
      "The title track ...|      arts/music|2016-05-29 00:00:00|ariana-grande-fif...|      794|    301|\n",
      "|\n",
      "One of the lates...|        business|2016-05-29 00:00:00|a-worrisome-pileu...|      954|    371|\n",
      "|\n",
      "PARIS — It is no...|   sports/tennis|2016-05-29 00:00:00|novak-djokovic-sh...|      843|    364|\n",
      "|\n",
      "The highly aesth...|          movies|2016-05-29 00:00:00|1940s-dispatches-...|     1256|    465|\n",
      "|\n",
      "The C-suite lean...|        business|2016-05-29 00:00:00|they-tilt-right-b...|      650|    235|\n",
      "+--------------------+----------------+-------------------+--------------------+---------+-------+\n",
      "only showing top 10 rows\n",
      "\n",
      "+--------------------+----------------+-------------------+--------------------+---------+-------+\n",
      "|                text|           topic|               date|               title|nb_tokens|nb_stop|\n",
      "+--------------------+----------------+-------------------+--------------------+---------+-------+\n",
      "|\n",
      "How does a young...|          movies|2016-05-29 00:00:00|the-fits-its-all-...|     1055|    439|\n",
      "|\n",
      "Humans may be qu...|        nyregion|2016-05-29 00:00:00|time-for-horsesho...|      541|    214|\n",
      "|\n",
      "SAN FRANCISCO — ...|          movies|2016-05-29 00:00:00|duncan-jones-bowi...|     1552|    650|\n",
      "|\n",
      "Kamala Harris wa...|        magazine|2016-05-29 00:00:00|kamala-harris-a-t...|     3849|   1572|\n",
      "|\n",
      "Brittany Anne Ca...|fashion/weddings|2016-05-29 00:00:00|brittany-campbell...|      232|     89|\n",
      "|\n",
      "The title track ...|      arts/music|2016-05-29 00:00:00|ariana-grande-fif...|      794|    301|\n",
      "|\n",
      "One of the lates...|        business|2016-05-29 00:00:00|a-worrisome-pileu...|      954|    371|\n",
      "|\n",
      "PARIS — It is no...|   sports/tennis|2016-05-29 00:00:00|novak-djokovic-sh...|      843|    364|\n",
      "|\n",
      "The highly aesth...|          movies|2016-05-29 00:00:00|1940s-dispatches-...|     1256|    465|\n",
      "|\n",
      "The C-suite lean...|        business|2016-05-29 00:00:00|they-tilt-right-b...|      650|    235|\n",
      "+--------------------+----------------+-------------------+--------------------+---------+-------+\n",
      "only showing top 10 rows\n",
      "\n"
     ]
    }
   ],
   "source": [
    "for x in range(5):\n",
    "    spark.sql(\"SELECT * FROM nb_stopwords\")\\\n",
    "    .show(10) \n",
    "    sleep(1)"
   ]
  },
  {
   "cell_type": "code",
   "execution_count": 111,
   "metadata": {},
   "outputs": [],
   "source": [
    "nb_stopwords_post_query.stop()"
   ]
  },
  {
   "cell_type": "markdown",
   "metadata": {},
   "source": [
    "### - Number of post per days"
   ]
  },
  {
   "cell_type": "code",
   "execution_count": 15,
   "metadata": {},
   "outputs": [],
   "source": [
    "post_day = df_streaming.groupby('date').count()"
   ]
  },
  {
   "cell_type": "code",
   "execution_count": 16,
   "metadata": {},
   "outputs": [],
   "source": [
    "post_day_query = post_day.writeStream\\\n",
    "    .queryName(\"post_day\")\\\n",
    "    .format(\"memory\")\\\n",
    "    .outputMode(\"complete\")\\\n",
    "    .start()"
   ]
  },
  {
   "cell_type": "code",
   "execution_count": 18,
   "metadata": {},
   "outputs": [
    {
     "name": "stdout",
     "output_type": "stream",
     "text": [
      "+-------------------+-----+\n",
      "|               date|count|\n",
      "+-------------------+-----+\n",
      "|2016-05-29 00:00:00|   23|\n",
      "+-------------------+-----+\n",
      "\n",
      "+-------------------+-----+\n",
      "|               date|count|\n",
      "+-------------------+-----+\n",
      "|2016-05-29 00:00:00|   24|\n",
      "+-------------------+-----+\n",
      "\n",
      "+-------------------+-----+\n",
      "|               date|count|\n",
      "+-------------------+-----+\n",
      "|2016-05-29 00:00:00|   25|\n",
      "+-------------------+-----+\n",
      "\n",
      "+-------------------+-----+\n",
      "|               date|count|\n",
      "+-------------------+-----+\n",
      "|2016-05-29 00:00:00|   26|\n",
      "+-------------------+-----+\n",
      "\n",
      "+-------------------+-----+\n",
      "|               date|count|\n",
      "+-------------------+-----+\n",
      "|2016-05-29 00:00:00|   27|\n",
      "+-------------------+-----+\n",
      "\n"
     ]
    }
   ],
   "source": [
    "for i in range(5):\n",
    "    spark.sql(\"SELECT * FROM post_day\").show(10)\n",
    "    sleep(1)"
   ]
  },
  {
   "cell_type": "code",
   "execution_count": 21,
   "metadata": {},
   "outputs": [],
   "source": [
    "post_day_query.stop()"
   ]
  },
  {
   "cell_type": "markdown",
   "metadata": {},
   "source": [
    "### - Number of post per topics and subtopics"
   ]
  },
  {
   "cell_type": "code",
   "execution_count": 10,
   "metadata": {},
   "outputs": [],
   "source": [
    "post_topic = df_streaming.groupby('topic').count()"
   ]
  },
  {
   "cell_type": "code",
   "execution_count": 11,
   "metadata": {
    "scrolled": false
   },
   "outputs": [],
   "source": [
    "post_topic_query = post_topic.writeStream\\\n",
    "    .queryName(\"post_topic\")\\\n",
    "    .format(\"memory\")\\\n",
    "    .outputMode(\"complete\")\\\n",
    "    .start()"
   ]
  },
  {
   "cell_type": "code",
   "execution_count": 12,
   "metadata": {},
   "outputs": [
    {
     "name": "stdout",
     "output_type": "stream",
     "text": [
      "+--------+-----+\n",
      "|   topic|count|\n",
      "+--------+-----+\n",
      "|nyregion|    1|\n",
      "|  movies|    1|\n",
      "+--------+-----+\n",
      "\n",
      "+--------+-----+\n",
      "|   topic|count|\n",
      "+--------+-----+\n",
      "|nyregion|    1|\n",
      "|  movies|    2|\n",
      "+--------+-----+\n",
      "\n",
      "+--------+-----+\n",
      "|   topic|count|\n",
      "+--------+-----+\n",
      "|nyregion|    1|\n",
      "|  movies|    2|\n",
      "|magazine|    1|\n",
      "+--------+-----+\n",
      "\n",
      "+----------------+-----+\n",
      "|           topic|count|\n",
      "+----------------+-----+\n",
      "|        nyregion|    1|\n",
      "|fashion/weddings|    1|\n",
      "|          movies|    2|\n",
      "|        magazine|    1|\n",
      "+----------------+-----+\n",
      "\n",
      "+----------------+-----+\n",
      "|           topic|count|\n",
      "+----------------+-----+\n",
      "|        nyregion|    1|\n",
      "|fashion/weddings|    1|\n",
      "|      arts/music|    1|\n",
      "|          movies|    2|\n",
      "|        magazine|    1|\n",
      "+----------------+-----+\n",
      "\n"
     ]
    }
   ],
   "source": [
    "for i in range(5):\n",
    "    spark.sql(\"SELECT * FROM post_topic\").show(10)\n",
    "    sleep(1)"
   ]
  },
  {
   "cell_type": "code",
   "execution_count": 14,
   "metadata": {},
   "outputs": [],
   "source": [
    "post_topic_query.stop()"
   ]
  },
  {
   "cell_type": "markdown",
   "metadata": {},
   "source": [
    "# Loading as Pandas DataFrame"
   ]
  },
  {
   "cell_type": "code",
   "execution_count": 8,
   "metadata": {},
   "outputs": [],
   "source": [
    "df_pd = df.toPandas()"
   ]
  },
  {
   "cell_type": "code",
   "execution_count": 10,
   "metadata": {
    "scrolled": true
   },
   "outputs": [
    {
     "data": {
      "text/html": [
       "<div>\n",
       "<style scoped>\n",
       "    .dataframe tbody tr th:only-of-type {\n",
       "        vertical-align: middle;\n",
       "    }\n",
       "\n",
       "    .dataframe tbody tr th {\n",
       "        vertical-align: top;\n",
       "    }\n",
       "\n",
       "    .dataframe thead th {\n",
       "        text-align: right;\n",
       "    }\n",
       "</style>\n",
       "<table border=\"1\" class=\"dataframe\">\n",
       "  <thead>\n",
       "    <tr style=\"text-align: right;\">\n",
       "      <th></th>\n",
       "      <th>text</th>\n",
       "      <th>topic</th>\n",
       "      <th>date</th>\n",
       "      <th>title</th>\n",
       "    </tr>\n",
       "  </thead>\n",
       "  <tbody>\n",
       "    <tr>\n",
       "      <td>0</td>\n",
       "      <td>\\nIn the spring of 2014, when our daughter, Na...</td>\n",
       "      <td>magazine</td>\n",
       "      <td>2016-06-12</td>\n",
       "      <td>choosing-a-school-for-my-daughter-in-a-segrega...</td>\n",
       "    </tr>\n",
       "    <tr>\n",
       "      <td>1</td>\n",
       "      <td>\\nPicture him as a young man, standing on the ...</td>\n",
       "      <td>magazine</td>\n",
       "      <td>2016-05-08</td>\n",
       "      <td>the-aspiring-novelist-who-became-obamas-foreig...</td>\n",
       "    </tr>\n",
       "    <tr>\n",
       "      <td>2</td>\n",
       "      <td>\\nFor the last hour, the American gunship had ...</td>\n",
       "      <td>magazine</td>\n",
       "      <td>2016-05-22</td>\n",
       "      <td>doctors-with-enemies-did-afghan-forces-target-...</td>\n",
       "    </tr>\n",
       "    <tr>\n",
       "      <td>3</td>\n",
       "      <td>\\nLast November, Meg Muñoz went to Los Angeles...</td>\n",
       "      <td>magazine</td>\n",
       "      <td>2016-05-08</td>\n",
       "      <td>should-prostitution-be-a-crime.html</td>\n",
       "    </tr>\n",
       "    <tr>\n",
       "      <td>4</td>\n",
       "      <td>\\nNakuru is a lakeside city in Kenya’s Rift Va...</td>\n",
       "      <td>magazine</td>\n",
       "      <td>2016-06-26</td>\n",
       "      <td>international-criminal-court-moreno-ocampo-the...</td>\n",
       "    </tr>\n",
       "    <tr>\n",
       "      <td>...</td>\n",
       "      <td>...</td>\n",
       "      <td>...</td>\n",
       "      <td>...</td>\n",
       "      <td>...</td>\n",
       "    </tr>\n",
       "    <tr>\n",
       "      <td>8789</td>\n",
       "      <td>\\nCheeky twists on an old classic, straight fr...</td>\n",
       "      <td>t-magazine/fashion</td>\n",
       "      <td>2016-05-09</td>\n",
       "      <td>fashion-nautical-stripes.html</td>\n",
       "    </tr>\n",
       "    <tr>\n",
       "      <td>8790</td>\n",
       "      <td>\\n\\n</td>\n",
       "      <td>world/middleeast</td>\n",
       "      <td>2016-05-03</td>\n",
       "      <td>submit-your-questions-about-syria-for-declan-w...</td>\n",
       "    </tr>\n",
       "    <tr>\n",
       "      <td>8791</td>\n",
       "      <td>\\n\\n</td>\n",
       "      <td>arts/design</td>\n",
       "      <td>2016-04-18</td>\n",
       "      <td>labor-protesters-to-resume-guggenheim-demonstr...</td>\n",
       "    </tr>\n",
       "    <tr>\n",
       "      <td>8792</td>\n",
       "      <td>\\n\\n</td>\n",
       "      <td>arts/design</td>\n",
       "      <td>2016-05-28</td>\n",
       "      <td>court-denies-extradition-request-for-spaniard-...</td>\n",
       "    </tr>\n",
       "    <tr>\n",
       "      <td>8793</td>\n",
       "      <td>\\n\\n</td>\n",
       "      <td>fashion</td>\n",
       "      <td>2016-05-02</td>\n",
       "      <td>met-gala-red-carpet-dresses.html</td>\n",
       "    </tr>\n",
       "  </tbody>\n",
       "</table>\n",
       "<p>8794 rows × 4 columns</p>\n",
       "</div>"
      ],
      "text/plain": [
       "                                                   text               topic  \\\n",
       "0     \\nIn the spring of 2014, when our daughter, Na...            magazine   \n",
       "1     \\nPicture him as a young man, standing on the ...            magazine   \n",
       "2     \\nFor the last hour, the American gunship had ...            magazine   \n",
       "3     \\nLast November, Meg Muñoz went to Los Angeles...            magazine   \n",
       "4     \\nNakuru is a lakeside city in Kenya’s Rift Va...            magazine   \n",
       "...                                                 ...                 ...   \n",
       "8789  \\nCheeky twists on an old classic, straight fr...  t-magazine/fashion   \n",
       "8790                                               \\n\\n    world/middleeast   \n",
       "8791                                               \\n\\n         arts/design   \n",
       "8792                                               \\n\\n         arts/design   \n",
       "8793                                               \\n\\n             fashion   \n",
       "\n",
       "           date                                              title  \n",
       "0    2016-06-12  choosing-a-school-for-my-daughter-in-a-segrega...  \n",
       "1    2016-05-08  the-aspiring-novelist-who-became-obamas-foreig...  \n",
       "2    2016-05-22  doctors-with-enemies-did-afghan-forces-target-...  \n",
       "3    2016-05-08                should-prostitution-be-a-crime.html  \n",
       "4    2016-06-26  international-criminal-court-moreno-ocampo-the...  \n",
       "...         ...                                                ...  \n",
       "8789 2016-05-09                      fashion-nautical-stripes.html  \n",
       "8790 2016-05-03  submit-your-questions-about-syria-for-declan-w...  \n",
       "8791 2016-04-18  labor-protesters-to-resume-guggenheim-demonstr...  \n",
       "8792 2016-05-28  court-denies-extradition-request-for-spaniard-...  \n",
       "8793 2016-05-02                   met-gala-red-carpet-dresses.html  \n",
       "\n",
       "[8794 rows x 4 columns]"
      ]
     },
     "execution_count": 10,
     "metadata": {},
     "output_type": "execute_result"
    }
   ],
   "source": [
    "df_pd"
   ]
  },
  {
   "cell_type": "code",
   "execution_count": 9,
   "metadata": {},
   "outputs": [
    {
     "data": {
      "text/html": [
       "<div>\n",
       "<style scoped>\n",
       "    .dataframe tbody tr th:only-of-type {\n",
       "        vertical-align: middle;\n",
       "    }\n",
       "\n",
       "    .dataframe tbody tr th {\n",
       "        vertical-align: top;\n",
       "    }\n",
       "\n",
       "    .dataframe thead th {\n",
       "        text-align: right;\n",
       "    }\n",
       "</style>\n",
       "<table border=\"1\" class=\"dataframe\">\n",
       "  <thead>\n",
       "    <tr style=\"text-align: right;\">\n",
       "      <th></th>\n",
       "      <th>text</th>\n",
       "      <th>topic</th>\n",
       "      <th>date</th>\n",
       "      <th>title</th>\n",
       "    </tr>\n",
       "  </thead>\n",
       "  <tbody>\n",
       "    <tr>\n",
       "      <td>0</td>\n",
       "      <td>In the spring of 2014, when our daughter, Najy...</td>\n",
       "      <td>magazine</td>\n",
       "      <td>2016-06-12</td>\n",
       "      <td>choosing a school for my daughter in a segrega...</td>\n",
       "    </tr>\n",
       "    <tr>\n",
       "      <td>1</td>\n",
       "      <td>Picture him as a young man, standing on the wa...</td>\n",
       "      <td>magazine</td>\n",
       "      <td>2016-05-08</td>\n",
       "      <td>the aspiring novelist who became obamas foreig...</td>\n",
       "    </tr>\n",
       "    <tr>\n",
       "      <td>2</td>\n",
       "      <td>For the last hour, the American gunship had be...</td>\n",
       "      <td>magazine</td>\n",
       "      <td>2016-05-22</td>\n",
       "      <td>doctors with enemies did afghan forces target ...</td>\n",
       "    </tr>\n",
       "    <tr>\n",
       "      <td>3</td>\n",
       "      <td>Last November, Meg Muñoz went to Los Angeles t...</td>\n",
       "      <td>magazine</td>\n",
       "      <td>2016-05-08</td>\n",
       "      <td>should prostitution be a crime</td>\n",
       "    </tr>\n",
       "    <tr>\n",
       "      <td>4</td>\n",
       "      <td>Nakuru is a lakeside city in Kenya’s Rift Vall...</td>\n",
       "      <td>magazine</td>\n",
       "      <td>2016-06-26</td>\n",
       "      <td>international criminal court moreno ocampo the...</td>\n",
       "    </tr>\n",
       "    <tr>\n",
       "      <td>...</td>\n",
       "      <td>...</td>\n",
       "      <td>...</td>\n",
       "      <td>...</td>\n",
       "      <td>...</td>\n",
       "    </tr>\n",
       "    <tr>\n",
       "      <td>8789</td>\n",
       "      <td>Cheeky twists on an old classic, straight from...</td>\n",
       "      <td>t-magazine/fashion</td>\n",
       "      <td>2016-05-09</td>\n",
       "      <td>fashion nautical stripes</td>\n",
       "    </tr>\n",
       "    <tr>\n",
       "      <td>8790</td>\n",
       "      <td></td>\n",
       "      <td>world/middleeast</td>\n",
       "      <td>2016-05-03</td>\n",
       "      <td>submit your questions about syria for declan w...</td>\n",
       "    </tr>\n",
       "    <tr>\n",
       "      <td>8791</td>\n",
       "      <td></td>\n",
       "      <td>arts/design</td>\n",
       "      <td>2016-04-18</td>\n",
       "      <td>labor protesters to resume guggenheim demonstr...</td>\n",
       "    </tr>\n",
       "    <tr>\n",
       "      <td>8792</td>\n",
       "      <td></td>\n",
       "      <td>arts/design</td>\n",
       "      <td>2016-05-28</td>\n",
       "      <td>court denies extradition request for spaniard ...</td>\n",
       "    </tr>\n",
       "    <tr>\n",
       "      <td>8793</td>\n",
       "      <td></td>\n",
       "      <td>fashion</td>\n",
       "      <td>2016-05-02</td>\n",
       "      <td>met gala red carpet dresses</td>\n",
       "    </tr>\n",
       "  </tbody>\n",
       "</table>\n",
       "<p>8794 rows × 4 columns</p>\n",
       "</div>"
      ],
      "text/plain": [
       "                                                   text               topic  \\\n",
       "0     In the spring of 2014, when our daughter, Najy...            magazine   \n",
       "1     Picture him as a young man, standing on the wa...            magazine   \n",
       "2     For the last hour, the American gunship had be...            magazine   \n",
       "3     Last November, Meg Muñoz went to Los Angeles t...            magazine   \n",
       "4     Nakuru is a lakeside city in Kenya’s Rift Vall...            magazine   \n",
       "...                                                 ...                 ...   \n",
       "8789  Cheeky twists on an old classic, straight from...  t-magazine/fashion   \n",
       "8790                                                       world/middleeast   \n",
       "8791                                                            arts/design   \n",
       "8792                                                            arts/design   \n",
       "8793                                                                fashion   \n",
       "\n",
       "           date                                              title  \n",
       "0    2016-06-12  choosing a school for my daughter in a segrega...  \n",
       "1    2016-05-08  the aspiring novelist who became obamas foreig...  \n",
       "2    2016-05-22  doctors with enemies did afghan forces target ...  \n",
       "3    2016-05-08                     should prostitution be a crime  \n",
       "4    2016-06-26  international criminal court moreno ocampo the...  \n",
       "...         ...                                                ...  \n",
       "8789 2016-05-09                           fashion nautical stripes  \n",
       "8790 2016-05-03  submit your questions about syria for declan w...  \n",
       "8791 2016-04-18  labor protesters to resume guggenheim demonstr...  \n",
       "8792 2016-05-28  court denies extradition request for spaniard ...  \n",
       "8793 2016-05-02                        met gala red carpet dresses  \n",
       "\n",
       "[8794 rows x 4 columns]"
      ]
     },
     "execution_count": 9,
     "metadata": {},
     "output_type": "execute_result"
    }
   ],
   "source": [
    "df_pd.text = df_pd.text.apply(lambda x : x.replace('\\n',''))\n",
    "df_pd.title = df_pd.title.apply(lambda x : x.replace('-',' ').replace('.html',''))\n",
    "df_pd.date = pd.to_datetime(df_pd.date)\n",
    "df_pd"
   ]
  },
  {
   "cell_type": "markdown",
   "metadata": {},
   "source": [
    "## Annotate the corpus"
   ]
  },
  {
   "cell_type": "code",
   "execution_count": 4,
   "metadata": {},
   "outputs": [],
   "source": [
    "nlp = spacy.load('en_core_web_sm')"
   ]
  },
  {
   "cell_type": "code",
   "execution_count": 82,
   "metadata": {},
   "outputs": [],
   "source": [
    "def noun_nent_verb(row):\n",
    "    doc = nlp(row) \n",
    "    list_nnv =[]\n",
    "    for token in doc:  \n",
    "        if token.pos_ in ['NOUN','NENT','VERB']:\n",
    "                list_nnv.append(token.text)\n",
    "    return list_nnv"
   ]
  },
  {
   "cell_type": "code",
   "execution_count": 83,
   "metadata": {},
   "outputs": [],
   "source": [
    "df_pd['token'] = df_pd['text'].apply(lambda row : noun_nent_verb(row))"
   ]
  },
  {
   "cell_type": "code",
   "execution_count": 88,
   "metadata": {
    "scrolled": true
   },
   "outputs": [
    {
     "data": {
      "text/html": [
       "<div>\n",
       "<style scoped>\n",
       "    .dataframe tbody tr th:only-of-type {\n",
       "        vertical-align: middle;\n",
       "    }\n",
       "\n",
       "    .dataframe tbody tr th {\n",
       "        vertical-align: top;\n",
       "    }\n",
       "\n",
       "    .dataframe thead th {\n",
       "        text-align: right;\n",
       "    }\n",
       "</style>\n",
       "<table border=\"1\" class=\"dataframe\">\n",
       "  <thead>\n",
       "    <tr style=\"text-align: right;\">\n",
       "      <th></th>\n",
       "      <th>text</th>\n",
       "      <th>topic</th>\n",
       "      <th>date</th>\n",
       "      <th>title</th>\n",
       "      <th>token</th>\n",
       "    </tr>\n",
       "  </thead>\n",
       "  <tbody>\n",
       "    <tr>\n",
       "      <td>0</td>\n",
       "      <td>In the spring of 2014, when our daughter, Najy...</td>\n",
       "      <td>magazine</td>\n",
       "      <td>2016-06-12</td>\n",
       "      <td>choosing a school for my daughter in a segrega...</td>\n",
       "      <td>[spring, daughter, turning, husband, found, fa...</td>\n",
       "    </tr>\n",
       "    <tr>\n",
       "      <td>1</td>\n",
       "      <td>Picture him as a young man, standing on the wa...</td>\n",
       "      <td>magazine</td>\n",
       "      <td>2016-05-08</td>\n",
       "      <td>the aspiring novelist who became obamas foreig...</td>\n",
       "      <td>[Picture, man, standing, waterfront, polling, ...</td>\n",
       "    </tr>\n",
       "    <tr>\n",
       "      <td>2</td>\n",
       "      <td>For the last hour, the American gunship had be...</td>\n",
       "      <td>magazine</td>\n",
       "      <td>2016-05-22</td>\n",
       "      <td>doctors with enemies did afghan forces target ...</td>\n",
       "      <td>[hour, gunship, circling, city, observing, tar...</td>\n",
       "    </tr>\n",
       "    <tr>\n",
       "      <td>3</td>\n",
       "      <td>Last November, Meg Muñoz went to Los Angeles t...</td>\n",
       "      <td>magazine</td>\n",
       "      <td>2016-05-08</td>\n",
       "      <td>should prostitution be a crime</td>\n",
       "      <td>[went, speak, conference, months, meeting, att...</td>\n",
       "    </tr>\n",
       "    <tr>\n",
       "      <td>4</td>\n",
       "      <td>Nakuru is a lakeside city in Kenya’s Rift Vall...</td>\n",
       "      <td>magazine</td>\n",
       "      <td>2016-06-26</td>\n",
       "      <td>international criminal court moreno ocampo the...</td>\n",
       "      <td>[lakeside, city, destination, tourists, part, ...</td>\n",
       "    </tr>\n",
       "  </tbody>\n",
       "</table>\n",
       "</div>"
      ],
      "text/plain": [
       "                                                text     topic       date  \\\n",
       "0  In the spring of 2014, when our daughter, Najy...  magazine 2016-06-12   \n",
       "1  Picture him as a young man, standing on the wa...  magazine 2016-05-08   \n",
       "2  For the last hour, the American gunship had be...  magazine 2016-05-22   \n",
       "3  Last November, Meg Muñoz went to Los Angeles t...  magazine 2016-05-08   \n",
       "4  Nakuru is a lakeside city in Kenya’s Rift Vall...  magazine 2016-06-26   \n",
       "\n",
       "                                               title  \\\n",
       "0  choosing a school for my daughter in a segrega...   \n",
       "1  the aspiring novelist who became obamas foreig...   \n",
       "2  doctors with enemies did afghan forces target ...   \n",
       "3                     should prostitution be a crime   \n",
       "4  international criminal court moreno ocampo the...   \n",
       "\n",
       "                                               token  \n",
       "0  [spring, daughter, turning, husband, found, fa...  \n",
       "1  [Picture, man, standing, waterfront, polling, ...  \n",
       "2  [hour, gunship, circling, city, observing, tar...  \n",
       "3  [went, speak, conference, months, meeting, att...  \n",
       "4  [lakeside, city, destination, tourists, part, ...  "
      ]
     },
     "execution_count": 88,
     "metadata": {},
     "output_type": "execute_result"
    }
   ],
   "source": [
    "df_pd.head(5)"
   ]
  },
  {
   "cell_type": "code",
   "execution_count": 89,
   "metadata": {},
   "outputs": [],
   "source": [
    "df_pd.to_csv('./data_ny.csv', index=True, header=True)"
   ]
  },
  {
   "cell_type": "markdown",
   "metadata": {},
   "source": [
    "# Build a Spark dataframe with annotations"
   ]
  },
  {
   "cell_type": "markdown",
   "metadata": {},
   "source": [
    "- One row per post topic\n",
    "- Columns : topic, title, date, text, Sparse vector with entries denoting the indices of tokens in the vocabulary Spacy's Vocab) for tokens tagged as NOUNs, VERBs and NENTs (Named Entities) and their number of occurrences"
   ]
  },
  {
   "cell_type": "code",
   "execution_count": 90,
   "metadata": {},
   "outputs": [],
   "source": [
    "df_ann = spark.read\\\n",
    "             .option(\"header\", \"true\")\\\n",
    "             .format('csv')\\\n",
    "             .load(\"./data_ny.csv\")"
   ]
  },
  {
   "cell_type": "code",
   "execution_count": 93,
   "metadata": {},
   "outputs": [
    {
     "name": "stdout",
     "output_type": "stream",
     "text": [
      "+---+--------------------+--------+----------+--------------------+--------------------+\n",
      "|_c0|                text|   topic|      date|               title|               token|\n",
      "+---+--------------------+--------+----------+--------------------+--------------------+\n",
      "|  0|In the spring of ...|magazine|2016-06-12|choosing a school...|['spring', 'daugh...|\n",
      "|  1|Picture him as a ...|magazine|2016-05-08|the aspiring nove...|['Picture', 'man'...|\n",
      "|  2|For the last hour...|magazine|2016-05-22|doctors with enem...|['hour', 'gunship...|\n",
      "|  3|Last November, Me...|magazine|2016-05-08|should prostituti...|['went', 'speak',...|\n",
      "|  4|Nakuru is a lakes...|magazine|2016-06-26|international cri...|['lakeside', 'cit...|\n",
      "+---+--------------------+--------+----------+--------------------+--------------------+\n",
      "only showing top 5 rows\n",
      "\n"
     ]
    }
   ],
   "source": [
    "df_ann.show(5)"
   ]
  },
  {
   "cell_type": "code",
   "execution_count": 94,
   "metadata": {},
   "outputs": [],
   "source": [
    "tokenizer = Tokenizer()\\\n",
    "        .setInputCol('token')\\\n",
    "        .setOutputCol('tokenized')\n",
    "tokenized = tokenizer.transform(df_ann).select(['_c0','text','topic','date','title', 'tokenized'])"
   ]
  },
  {
   "cell_type": "code",
   "execution_count": 96,
   "metadata": {},
   "outputs": [
    {
     "name": "stdout",
     "output_type": "stream",
     "text": [
      "+---+--------------------+--------+----------+--------------------+--------------------+\n",
      "|_c0|                text|   topic|      date|               title|           tokenized|\n",
      "+---+--------------------+--------+----------+--------------------+--------------------+\n",
      "|  0|In the spring of ...|magazine|2016-06-12|choosing a school...|[['spring',, 'dau...|\n",
      "|  1|Picture him as a ...|magazine|2016-05-08|the aspiring nove...|[['picture',, 'ma...|\n",
      "|  2|For the last hour...|magazine|2016-05-22|doctors with enem...|[['hour',, 'gunsh...|\n",
      "|  3|Last November, Me...|magazine|2016-05-08|should prostituti...|[['went',, 'speak...|\n",
      "|  4|Nakuru is a lakes...|magazine|2016-06-26|international cri...|[['lakeside',, 'c...|\n",
      "+---+--------------------+--------+----------+--------------------+--------------------+\n",
      "only showing top 5 rows\n",
      "\n"
     ]
    }
   ],
   "source": [
    "tokenized.show(5)"
   ]
  },
  {
   "cell_type": "code",
   "execution_count": 182,
   "metadata": {},
   "outputs": [
    {
     "name": "stdout",
     "output_type": "stream",
     "text": [
      "+---+--------------------+--------+----------+--------------------+--------------------+--------------------+\n",
      "|_c0|                text|   topic|      date|               title|           tokenized|            countVec|\n",
      "+---+--------------------+--------+----------+--------------------+--------------------+--------------------+\n",
      "|  0|In the spring of ...|magazine|2016-06-12|choosing a school...|[['spring',, 'dau...|(33753,[0,1,2,3,4...|\n",
      "|  1|Picture him as a ...|magazine|2016-05-08|the aspiring nove...|[['picture',, 'ma...|(33753,[0,1,2,3,4...|\n",
      "|  2|For the last hour...|magazine|2016-05-22|doctors with enem...|[['hour',, 'gunsh...|(33753,[0,1,2,3,4...|\n",
      "|  3|Last November, Me...|magazine|2016-05-08|should prostituti...|[['went',, 'speak...|(33753,[0,1,2,3,4...|\n",
      "|  4|Nakuru is a lakes...|magazine|2016-06-26|international cri...|[['lakeside',, 'c...|(33753,[0,1,2,3,4...|\n",
      "+---+--------------------+--------+----------+--------------------+--------------------+--------------------+\n",
      "only showing top 5 rows\n",
      "\n"
     ]
    }
   ],
   "source": [
    "cv = CountVectorizer()\\\n",
    "    .setInputCol(\"tokenized\")\\\n",
    "    .setOutputCol(\"countVec\")\\\n",
    "    .setVocabSize(262144)\\\n",
    "    .setMinTF(1)\\\n",
    "    .setMinDF(2)\n",
    "\n",
    "fittedCV = cv.fit(tokenized)\n",
    "df_cv = fittedCV.transform(tokenized)\n",
    "df_cv.show(5)"
   ]
  },
  {
   "cell_type": "markdown",
   "metadata": {},
   "source": [
    "# LSH model"
   ]
  },
  {
   "cell_type": "markdown",
   "metadata": {},
   "source": [
    "Random split of the corpus in a training set and testing set (the training set is used to train LSH models and the testing set is used to evaluate the LSH models)."
   ]
  },
  {
   "cell_type": "code",
   "execution_count": 129,
   "metadata": {},
   "outputs": [],
   "source": [
    "df_train, df_test = df_cv.select('topic','text','title','date', 'countVec').randomSplit([0.75, 0.25])"
   ]
  },
  {
   "cell_type": "markdown",
   "metadata": {},
   "source": [
    "## MinHash model"
   ]
  },
  {
   "cell_type": "markdown",
   "metadata": {},
   "source": [
    "### Training"
   ]
  },
  {
   "cell_type": "code",
   "execution_count": 375,
   "metadata": {},
   "outputs": [],
   "source": [
    "mh1 = MinHashLSH(inputCol=\"countVec\", outputCol=\"hashes\", seed=12345) #numHashTables = 1 par défaut\n",
    "model_mh1 = mh1.fit(df_train)\n",
    "df_mh1 = model1.transform(df_train)"
   ]
  },
  {
   "cell_type": "code",
   "execution_count": null,
   "metadata": {},
   "outputs": [],
   "source": [
    "key = df_train.filter(\"_c0 == 1\")\n",
    "model_mh1.approxNearestNeighbors(df_train, key, 1)"
   ]
  },
  {
   "cell_type": "code",
   "execution_count": 386,
   "metadata": {},
   "outputs": [],
   "source": [
    "approxsim1 = model_mh1.approxSimilarityJoin(df_train, df_train, 0.8 , distCol=\"JaccardDistance\")\\\n",
    "    .select(col(\"datasetA.countVec\").alias(\"cvA\"), col(\"datasetB.countVec\").alias(\"cvB\"),col(\"JaccardDistance\"))"
   ]
  },
  {
   "cell_type": "code",
   "execution_count": 388,
   "metadata": {},
   "outputs": [],
   "source": [
    "approxsim1.filter(\"JaccardDistance != 0\").show()"
   ]
  },
  {
   "cell_type": "code",
   "execution_count": 381,
   "metadata": {},
   "outputs": [],
   "source": [
    "mh2 = MinHashLSH(inputCol=\"countVec\", outputCol=\"hashes\", seed=12345, numHashTables=8)\n",
    "model_mh2 = mh2.fit(df_train)\n",
    "df_mh2 = model_mh2.transform(df_train)"
   ]
  },
  {
   "cell_type": "code",
   "execution_count": 383,
   "metadata": {},
   "outputs": [],
   "source": [
    "model_mh2.approxNearestNeighbors(df_train, key, 1)"
   ]
  },
  {
   "cell_type": "code",
   "execution_count": 389,
   "metadata": {},
   "outputs": [],
   "source": [
    "approxsim2 = model_mh2.approxSimilarityJoin(df_train, df_train, 0.8 , distCol=\"JaccardDistance\")\\\n",
    "    .select(col(\"datasetA.countVec\").alias(\"cvA\"), col(\"datasetB.countVec\").alias(\"cvB\"),col(\"JaccardDistance\"))"
   ]
  },
  {
   "cell_type": "code",
   "execution_count": 391,
   "metadata": {},
   "outputs": [],
   "source": [
    "approxsim2.filter(\"JaccardDistance != 0\").show()"
   ]
  },
  {
   "cell_type": "markdown",
   "metadata": {},
   "source": [
    "### Evaluate"
   ]
  },
  {
   "cell_type": "code",
   "execution_count": 393,
   "metadata": {},
   "outputs": [],
   "source": [
    "df_eval_mh1 = mh1.fit(df_test)\\\n",
    "    .transform(df_test)"
   ]
  },
  {
   "cell_type": "code",
   "execution_count": 395,
   "metadata": {},
   "outputs": [],
   "source": [
    "evaluator = Evaluator()\n",
    "evaluator.evaluate(df_eval_mh1)"
   ]
  },
  {
   "cell_type": "code",
   "execution_count": 396,
   "metadata": {},
   "outputs": [],
   "source": [
    "df_eval_mh2 = mh2.fit(df_test)\\\n",
    "    .transform(df_test)"
   ]
  },
  {
   "cell_type": "code",
   "execution_count": null,
   "metadata": {},
   "outputs": [],
   "source": [
    "evaluator.evaluate(df_eval_mh2)"
   ]
  },
  {
   "cell_type": "markdown",
   "metadata": {},
   "source": [
    "### With Pipeline"
   ]
  },
  {
   "cell_type": "code",
   "execution_count": 399,
   "metadata": {},
   "outputs": [],
   "source": [
    "pipeline = Pipeline(stages=[tokenizer, cv, mh1])\n",
    "pipelineFit = pipeline.fit(df_ann)\n",
    "df_final = pipelineFit.transform(df_ann)"
   ]
  },
  {
   "cell_type": "markdown",
   "metadata": {},
   "source": [
    "### Saving and loading"
   ]
  },
  {
   "cell_type": "code",
   "execution_count": 400,
   "metadata": {},
   "outputs": [
    {
     "data": {
      "text/plain": [
       "True"
      ]
     },
     "execution_count": 400,
     "metadata": {},
     "output_type": "execute_result"
    }
   ],
   "source": [
    "mh1Path = temp_path + \"/mh1\" \n",
    "mh1.write().overwrite().save(mh1Path) \n",
    "mh1bis = MinHashLSH.load(mh1Path) \n",
    "mh1bis.getOutputCol() == mh1.getOutputCol()"
   ]
  },
  {
   "cell_type": "code",
   "execution_count": 401,
   "metadata": {},
   "outputs": [
    {
     "data": {
      "text/plain": [
       "True"
      ]
     },
     "execution_count": 401,
     "metadata": {},
     "output_type": "execute_result"
    }
   ],
   "source": [
    "model1Path = temp_path + \"/mh1-model\"\n",
    "model_mh1.save(model1Path)\n",
    "model_mh1bis = MinHashLSHModel.load(model1Path) \n",
    "model_mh1.transform(df_train).head().hashes == model_mh1bis.transform(df_train).head().hashes"
   ]
  },
  {
   "cell_type": "markdown",
   "metadata": {},
   "source": [
    "## BucketedRandomProjection"
   ]
  },
  {
   "cell_type": "markdown",
   "metadata": {},
   "source": [
    "### Training"
   ]
  },
  {
   "cell_type": "code",
   "execution_count": 402,
   "metadata": {},
   "outputs": [
    {
     "data": {
      "text/plain": [
       "True"
      ]
     },
     "execution_count": 402,
     "metadata": {},
     "output_type": "execute_result"
    }
   ],
   "source": [
    "brp = BucketedRandomProjectionLSH( inputCol=\"countVec\", outputCol=\"hashes\", seed=12345, bucketLength=1.0)\n",
    "isinstance(brp, Estimator) & isinstance(brp, BucketedRandomProjectionLSH)"
   ]
  },
  {
   "cell_type": "code",
   "execution_count": 404,
   "metadata": {},
   "outputs": [],
   "source": [
    "model_brp = brp.fit(df_train)\n",
    "df_brp = model_brp.transform(df_train)"
   ]
  },
  {
   "cell_type": "code",
   "execution_count": 405,
   "metadata": {},
   "outputs": [
    {
     "data": {
      "text/plain": [
       "pyspark.ml.feature.BucketedRandomProjectionLSHModel"
      ]
     },
     "execution_count": 405,
     "metadata": {},
     "output_type": "execute_result"
    }
   ],
   "source": [
    "type(model_brp)"
   ]
  },
  {
   "cell_type": "code",
   "execution_count": 407,
   "metadata": {},
   "outputs": [
    {
     "data": {
      "text/plain": [
       "'bucketLength: the length of each hash bucket, a larger bucket lowers the false negative rate. (current: 1.0)\\ninputCol: input column name (current: countVec)\\nnumHashTables: number of hash tables, where increasing number of hash tables lowers the false negative rate, and decreasing it improves the running performance (default: 1)\\noutputCol: output column name (default: BucketedRandomProjectionLSH_62598a18d510__output, current: hashes)'"
      ]
     },
     "execution_count": 407,
     "metadata": {},
     "output_type": "execute_result"
    }
   ],
   "source": [
    "model_brp.explainParams()"
   ]
  },
  {
   "cell_type": "code",
   "execution_count": 412,
   "metadata": {},
   "outputs": [],
   "source": [
    "model_brp.approxNearestNeighbors(df_train, key, 1)"
   ]
  },
  {
   "cell_type": "code",
   "execution_count": 410,
   "metadata": {},
   "outputs": [],
   "source": [
    "approxsim3 = model_mh1.approxSimilarityJoin(df_train, df_train, 0.8 , distCol=\"JaccardDistance\")\\\n",
    "    .select(col(\"datasetA.countVec\").alias(\"cvA\"), col(\"datasetB.countVec\").alias(\"cvB\"),col(\"JaccardDistance\"))"
   ]
  },
  {
   "cell_type": "code",
   "execution_count": 413,
   "metadata": {},
   "outputs": [],
   "source": [
    "approxsim3.filter(\"JaccardDistance != 0\").show()"
   ]
  },
  {
   "cell_type": "markdown",
   "metadata": {},
   "source": [
    "### With Pipeline"
   ]
  },
  {
   "cell_type": "code",
   "execution_count": 414,
   "metadata": {},
   "outputs": [],
   "source": [
    "pipeline2 = Pipeline(stages=[tokenizer, cv, brp])\n",
    "pipelineFit2 = pipeline.fit(df_ann)\n",
    "df_final2 = pipelineFit.transform(df_ann)"
   ]
  },
  {
   "cell_type": "markdown",
   "metadata": {},
   "source": [
    "### Saving and loading"
   ]
  },
  {
   "cell_type": "code",
   "execution_count": 415,
   "metadata": {},
   "outputs": [
    {
     "data": {
      "text/plain": [
       "True"
      ]
     },
     "execution_count": 415,
     "metadata": {},
     "output_type": "execute_result"
    }
   ],
   "source": [
    "temp_path = os.getcwd()\n",
    "brpPath = temp_path + \"/brp\" \n",
    "brp.write().overwrite().save(brpPath)\n",
    "brp2 = BucketedRandomProjectionLSH.load(brpPath) \n",
    "brp2.getBucketLength() == brp.getBucketLength()"
   ]
  },
  {
   "cell_type": "code",
   "execution_count": 417,
   "metadata": {},
   "outputs": [
    {
     "data": {
      "text/plain": [
       "True"
      ]
     },
     "execution_count": 417,
     "metadata": {},
     "output_type": "execute_result"
    }
   ],
   "source": [
    "modelPath = temp_path + \"/brp-model\" \n",
    "model_brp.write().overwrite().save(modelPath)\n",
    "modelSaved = BucketedRandomProjectionLSHModel.load(modelPath) \n",
    "modelSaved.transform(df_train).head().hashes == modelSaved.transform(df_train).head().hashes"
   ]
  },
  {
   "cell_type": "code",
   "execution_count": 53,
   "metadata": {},
   "outputs": [],
   "source": [
    "spark.stop()"
   ]
  }
 ],
 "metadata": {
  "kernelspec": {
   "display_name": "Python 3",
   "language": "python",
   "name": "python3"
  },
  "language_info": {
   "codemirror_mode": {
    "name": "ipython",
    "version": 3
   },
   "file_extension": ".py",
   "mimetype": "text/x-python",
   "name": "python",
   "nbconvert_exporter": "python",
   "pygments_lexer": "ipython3",
   "version": "3.7.4"
  }
 },
 "nbformat": 4,
 "nbformat_minor": 2
}
